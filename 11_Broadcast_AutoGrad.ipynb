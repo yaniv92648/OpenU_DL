{
  "nbformat": 4,
  "nbformat_minor": 0,
  "metadata": {
    "colab": {
      "name": "OpenU_DL_Maman_11_Introduction_Broadcast_AutoGrad.ipynb",
      "provenance": [],
      "collapsed_sections": [],
      "include_colab_link": true
    },
    "kernelspec": {
      "name": "python3",
      "display_name": "Python 3"
    },
    "language_info": {
      "name": "python"
    }
  },
  "cells": [
    {
      "cell_type": "markdown",
      "metadata": {
        "id": "view-in-github",
        "colab_type": "text"
      },
      "source": [
        "<a href=\"https://colab.research.google.com/github/yaniv92648/OpenU_DL/blob/main/OpenU_DL_Maman_11_Introduction_Broadcast_AutoGrad.ipynb\" target=\"_parent\"><img src=\"https://colab.research.google.com/assets/colab-badge.svg\" alt=\"Open In Colab\"/></a>"
      ]
    },
    {
      "cell_type": "markdown",
      "source": [
        "לינק להקלטה\n",
        "\n",
        "https://drive.google.com/file/d/1T7oWU194Szid_QIJNfRn7rTu_yQgPWmY/view\n"
      ],
      "metadata": {
        "id": "26R65CCdS4Mh"
      }
    },
    {
      "cell_type": "code",
      "source": [
        "import torch\n",
        "import matplotlib.pyplot as plt"
      ],
      "metadata": {
        "id": "o6rnfgtYVE98"
      },
      "execution_count": null,
      "outputs": []
    },
    {
      "cell_type": "code",
      "execution_count": null,
      "metadata": {
        "id": "WWAQehRHI9yQ",
        "colab": {
          "base_uri": "https://localhost:8080/",
          "height": 265
        },
        "outputId": "5fd7ef03-3ba3-4f12-bfae-1221daa73ac7"
      },
      "outputs": [
        {
          "output_type": "display_data",
          "data": {
            "text/plain": [
              "<Figure size 432x288 with 1 Axes>"
            ],
            "image/png": "[encoded data removed]"
          },
          "metadata": {
            "needs_background": "light"
          }
        }
      ],
      "source": [
        "# Question 1\n",
        "\n",
        "def my_sampler(size, dist, requires_grad=False):\n",
        "    # Sanity\n",
        "    assert dist.sum() == 1, 'Sum of probabilities should equal to 1' \n",
        "    assert dist.all() > 0, 'Probabilities must be positive'\n",
        "    # Algorithm\n",
        "    U = torch.rand(size) # Generates a tensor with \"size\" ranom numbers from 0 to 1 (uniformly)\n",
        "    I = torch.where(U < dist[0], torch.tensor(float(0)), U) # 1st condition\n",
        "    I = torch.where(U >= 1-dist[-1], torch.tensor(float(dist.shape[0]-1)), I) # 2nd condition\n",
        "    cumsum_dist = dist.cumsum(dim=0) # Accumulative sums of dist\n",
        "    # 3rd condition\n",
        "    for k in range(1, dist.numel() - 1):\n",
        "      I = torch.where((U >= cumsum_dist[k-1]) & (U < cumsum_dist[k]), torch.tensor(float(k)), I)\n",
        "    I.requires_grad = requires_grad # indicates if gradients need to be computed\n",
        "    return I\n",
        "\n",
        "plt.hist(my_sampler(size=10**4, dist=torch.tensor([0.1, 0.2, 0.7]), requires_grad=True).detach().numpy());"
      ]
    },
    {
      "cell_type": "code",
      "source": [
        "# Question 1 - Bonus\n",
        "\n",
        "def alias_sampler(size, dist, requires_grad=False):\n",
        "  # Sanity\n",
        "  assert dist.sum() == 1 # Sum of probabilities should equal to 1\n",
        "  assert dist.all() > 0 # Probabilities must be positive\n",
        "  # Creating probabilities table (U) & alias table (K)\n",
        "  n = dist.shape[0]\n",
        "  U = n * dist # How much \"liquid\" in every bucket\n",
        "  # Each bucket is made of \"liquids\" that belongs to two buckets.\n",
        "  # A key-value in K is the 1st & 2nd bucket, correspondingly\n",
        "  K = torch.arange(n)\n",
        "  while U[U < 1].any() and U[U > 1].any():\n",
        "    i = (U > 1).nonzero()[0].item() # Overfull bucket index\n",
        "    j = (U < 1).nonzero()[0].item() # Underfull bucket index\n",
        "    K[j] = i # The i'th bucket fills the j's bucket\n",
        "    U[i] -= 1 - U[j] # Remove the filled \"liquids\" from U[i]\n",
        "    U[j] = 1 # Bucket U[j] is now full\n",
        "  # Algorithm\n",
        "  U = n * dist\n",
        "  X = torch.rand(size) # Random number between 0 & 1 uniformly\n",
        "  I = (n * X).to(torch.int64) # Random bucket choice\n",
        "  Y = n * X - I # Random threshold in chosen bucket\n",
        "  return torch.where(Y < U[I], I, K[I])\n",
        "\n",
        "plt.hist(alias_sampler(size=10**4, dist=torch.tensor([0.1, 0.2, 0.7]), requires_grad=True).detach().numpy());"
      ],
      "metadata": {
        "id": "QhiI4-wgRp5r",
        "colab": {
          "base_uri": "https://localhost:8080/",
          "height": 265
        },
        "outputId": "ace14f5a-41e1-4608-e811-fb954990857b"
      },
      "execution_count": null,
      "outputs": [
        {
          "output_type": "display_data",
          "data": {
            "text/plain": [
              "<Figure size 432x288 with 1 Axes>"
            ],
            "image/png": "[encoded data removed]"
          },
          "metadata": {
            "needs_background": "light"
          }
        }
      ]
    },
    {
      "cell_type": "code",
      "source": [
        "# Question 2 - א\n",
        "\n",
        "def broadcast_left_to_right(A, B):\n",
        "  # Sanity\n",
        "  if A.shape == B.shape:\n",
        "    return A\n",
        "  # First check if possible\n",
        "  A_shape_rev, B_shape_rev = A.shape[::-1], B.shape[::-1]\n",
        "  for i, dim_A in enumerate(A_shape_rev):\n",
        "    dim_B = B_shape_rev[i]\n",
        "    assert dim_A == dim_B or dim_A == 1, 'Broadcasting not possible'\n",
        "  # Broascast\n",
        "  for i, dim_A in enumerate(A.shape):\n",
        "    dim_B = B.shape[i]\n",
        "    if dim_A < dim_B:\n",
        "      C = A.clone()\n",
        "      while C.shape[i] < dim_B:\n",
        "        C = torch.cat((C, A), dim=i)\n",
        "  return C"
      ],
      "metadata": {
        "id": "9-M566gdcNoK"
      },
      "execution_count": null,
      "outputs": []
    },
    {
      "cell_type": "code",
      "source": [
        "# Question 2 - א - Tests\n",
        "\n",
        "# Sanity\n",
        "a = torch.tensor([[1, 7], [2, 4]])\n",
        "b = torch.tensor([[1, 2], [3, 4]])\n",
        "print(f'Sanity test: {broadcast_left_to_right(a, b)}')\n",
        "\n",
        "# Not possible\n",
        "a = torch.tensor([[1, 7], [2, 4]])\n",
        "b = torch.tensor([[1, 2], [3, 4], [2, 2]])\n",
        "try:\n",
        "  print(f'Not possible test: {broadcast_left_to_right(a, b)}')\n",
        "except Exception as e: \n",
        "  print(f'Not possible test: {e}')\n",
        "\n",
        "# Possible\n",
        "a = torch.tensor([[1, 7]])\n",
        "b = torch.tensor([[1, 2], [3, 4], [5, 6], [7, 8]])\n",
        "print(f'Possible test: {broadcast_left_to_right(a, b)}')"
      ],
      "metadata": {
        "id": "Do_2F9LdKXoF",
        "colab": {
          "base_uri": "https://localhost:8080/"
        },
        "outputId": "64c40f5a-708e-4fb2-9d92-8e8e6aa374de"
      },
      "execution_count": null,
      "outputs": [
        {
          "output_type": "stream",
          "name": "stdout",
          "text": [
            "Sanity test: tensor([[1, 7],\n",
            "        [2, 4]])\n",
            "Not possible test: Broadcasting not possible\n",
            "Possible test: tensor([[1, 7],\n",
            "        [1, 7],\n",
            "        [1, 7],\n",
            "        [1, 7]])\n"
          ]
        }
      ]
    },
    {
      "cell_type": "code",
      "source": [
        "# Question 2 - ב\n",
        "\n",
        "def can_broadcast_together(A, B):\n",
        "  # Sanity\n",
        "  if A.shape == B.shape:\n",
        "    return True, A.shape\n",
        "  A_shape_rev, B_shape_rev = A.shape[::-1], B.shape[::-1]\n",
        "  for i, dim_A in enumerate(A_shape_rev):\n",
        "    dim_B = B_shape_rev[i]\n",
        "    if dim_A != dim_B and dim_A != 1 and dim_B != 1:\n",
        "      return False, None\n",
        "  return True, torch.Size(torch.max(torch.tensor(A.shape), torch.tensor(B.shape)))"
      ],
      "metadata": {
        "id": "clM5JJRVQOZG"
      },
      "execution_count": null,
      "outputs": []
    },
    {
      "cell_type": "code",
      "source": [
        "# Question 2 - ב - Tests\n",
        "\n",
        "# Sanity\n",
        "a = torch.tensor([[1, 7, 9]])\n",
        "b = torch.tensor([[2], [4]])\n",
        "print(f'Sanity test: {can_broadcast_together(a, b)}')\n",
        "\n",
        "# Possible\n",
        "a = torch.tensor([[1, 7, 9]])\n",
        "b = torch.tensor([[2], [4]])\n",
        "print(f'Possible test: {can_broadcast_together(a, b)}')\n",
        "\n",
        "# Not possible\n",
        "a = torch.tensor([[1, 7, 9]])\n",
        "b = torch.tensor([[2, 5], [4, 6]])\n",
        "print(f'Not possible test: {can_broadcast_together(a, b)}')"
      ],
      "metadata": {
        "colab": {
          "base_uri": "https://localhost:8080/"
        },
        "id": "tw_wU6aCSDsK",
        "outputId": "e82d4b19-d9aa-4694-8adb-d0f37c211a21"
      },
      "execution_count": null,
      "outputs": [
        {
          "output_type": "stream",
          "name": "stdout",
          "text": [
            "Sanity test: (True, torch.Size([2, 3]))\n",
            "Possible test: (True, torch.Size([2, 3]))\n",
            "Not possible test: (False, None)\n"
          ]
        }
      ]
    },
    {
      "cell_type": "code",
      "source": [
        "# Question 2 - ג\n",
        "\n",
        "def broadcast_together(A, B):\n",
        "  # Sanity\n",
        "  if A.shape == B.shape:\n",
        "    return A, B\n",
        "  can_broadcast, size = can_broadcast_together(A, B)\n",
        "  if not can_broadcast:\n",
        "    return 'Cannot Broadcast!'\n",
        "  # Broascast\n",
        "  zeros = torch.zeros(size)\n",
        "  A_broadcasted = broadcast_left_to_right(A, zeros)\n",
        "  B_broadcasted = broadcast_left_to_right(B, zeros)\n",
        "  return A_broadcasted, B_broadcasted"
      ],
      "metadata": {
        "id": "eoYvMx_nSqh-"
      },
      "execution_count": null,
      "outputs": []
    },
    {
      "cell_type": "code",
      "source": [
        "# Question 2 - ד\n",
        "\n",
        "a = torch.tensor([[1, 7]])\n",
        "b = torch.tensor([[1, 2], [3, 4], [5, 6], [7, 8]])\n",
        "print(f'1. {torch.all(a.expand_as(b) == broadcast_left_to_right(a, b))}')\n",
        "\n",
        "a = torch.tensor([[1, 7, 9]])\n",
        "b = torch.tensor([[2, 5], [4, 6]])\n",
        "print(f'2. {broadcast_together(a, b)}')\n",
        "try:\n",
        "  torch.broadcast_tensors(a, b)\n",
        "except Exception as e: \n",
        "  print(e)\n",
        "\n",
        "a = torch.tensor([[1, 7, 9]])\n",
        "b = torch.tensor([[2], [4]])\n",
        "br_to_a_b, br_to_b_a = broadcast_together(a, b)\n",
        "br_te_a_b, br_te_b_a = torch.broadcast_tensors(a, b)\n",
        "print(f'3. {torch.all(br_to_a_b == br_te_a_b)}')\n",
        "print(f'4. {torch.all(br_to_b_a == br_te_b_a)}')"
      ],
      "metadata": {
        "id": "yFUbSRp6a1H9",
        "colab": {
          "base_uri": "https://localhost:8080/"
        },
        "outputId": "8e9df5d7-070f-41d6-c747-79faed8ef15e"
      },
      "execution_count": null,
      "outputs": [
        {
          "output_type": "stream",
          "name": "stdout",
          "text": [
            "1. True\n",
            "2. Cannot Broadcast!\n",
            "The size of tensor a (3) must match the size of tensor b (2) at non-singleton dimension 1\n",
            "3. True\n",
            "4. True\n"
          ]
        }
      ]
    },
    {
      "cell_type": "code",
      "source": [
        "# Question 3\n",
        "\n",
        "from collections import defaultdict\n",
        "\n",
        "\n",
        "class MyScalar:\n",
        "\n",
        "  # gradient_2 & parent_2 is for the bonus\n",
        "  def __init__(self, value=None, gradient_1=1, gradient_2=1, parent_1=None, parent_2=None):\n",
        "    self.value = value if (type(value) == torch.Tensor) else torch.tensor(value)\n",
        "    self.gradient_1 = gradient_1 if (type(gradient_1) == torch.Tensor) else torch.tensor(gradient_1)\n",
        "    self.gradient_2 = gradient_2 if (type(gradient_2) == torch.Tensor) else torch.tensor(gradient_2)\n",
        "    self.parent_1 = parent_1\n",
        "    self.parent_2 = parent_2\n",
        "    self.ID = str(hash(self))\n",
        "\n",
        "\n",
        "gradient_dict = defaultdict(lambda:0)\n",
        "\n",
        "\n",
        "# Regular + Bonus\n",
        "def get_gradient(my_scalar):\n",
        "  if my_scalar.ID not in gradient_dict:\n",
        "    gradient_dict[my_scalar.ID] = 1\n",
        "  if my_scalar.parent_1 is not None:\n",
        "    gradient_dict[my_scalar.parent_1.ID] += gradient_dict[my_scalar.ID] * my_scalar.gradient_1.item()\n",
        "    get_gradient(my_scalar.parent_1)\n",
        "  if my_scalar.parent_2 is not None:\n",
        "    gradient_dict[my_scalar.parent_2.ID] += gradient_dict[my_scalar.ID] * my_scalar.gradient_2.item()\n",
        "    get_gradient(my_scalar.parent_2)\n",
        "  return gradient_dict\n",
        "\n",
        "\n",
        "\n",
        "class MathLibrary:\n",
        "\n",
        "  @staticmethod\n",
        "  def exp(my_scalar):\n",
        "    return MyScalar(value=torch.exp(my_scalar.value), \n",
        "                    gradient_1=torch.exp(my_scalar.value), \n",
        "                    parent_1=my_scalar)\n",
        "  \n",
        "  @staticmethod\n",
        "  def ln(my_scalar):\n",
        "    return MyScalar(value=torch.log(my_scalar.value),\n",
        "                    gradient_1=1/my_scalar.value, \n",
        "                    parent_1=my_scalar)\n",
        "\n",
        "  @staticmethod\n",
        "  def sin(my_scalar):\n",
        "    return MyScalar(value=torch.sin(my_scalar.value),\n",
        "                    gradient_1=torch.cos(my_scalar.value),\n",
        "                    parent_1=my_scalar)\n",
        "    \n",
        "  @staticmethod\n",
        "  def cos(my_scalar):\n",
        "    return MyScalar(value=torch.cos(my_scalar.value),\n",
        "                    gradient_1=-torch.sin(my_scalar.value),\n",
        "                    parent=my_scalar)\n",
        "  \n",
        "  @staticmethod\n",
        "  def power(my_scalar, exponent):\n",
        "    return MyScalar(value=torch.pow(my_scalar.value, exponent),\n",
        "                    gradient_1=exponent*torch.pow(my_scalar.value, exponent-1),\n",
        "                    parent_1=my_scalar)\n",
        "  \n",
        "  @staticmethod\n",
        "  def addition(my_scalar, addition_value):\n",
        "    return MyScalar(value=my_scalar.value+addition_value,\n",
        "                    gradient_1=1, \n",
        "                    parent_1=my_scalar)\n",
        "    \n",
        "  @staticmethod\n",
        "  def product(my_scalar, product_value):\n",
        "    return MyScalar(value=my_scalar.value*product_value,\n",
        "                    gradient_1=product_value, \n",
        "                    parent_1=my_scalar)\n",
        "  \n",
        "  # Bonus\n",
        "  @staticmethod\n",
        "  def product_scalars(my_scalar_1, my_scalar_2):\n",
        "    return MyScalar(value=my_scalar_1.value*my_scalar_2.value,\n",
        "                    gradient_1=my_scalar_2.value, \n",
        "                    gradient_2=my_scalar_1.value, \n",
        "                    parent_1=my_scalar_1,\n",
        "                    parent_2=my_scalar_2)\n",
        "\n",
        "  # Bonus\n",
        "  @staticmethod\n",
        "  def division_scalars(my_scalar_1, my_scalar_2):\n",
        "    return MyScalar(value=my_scalar_1.value/my_scalar_2.value,\n",
        "                    gradient_1=1/my_scalar_2.value, \n",
        "                    gradient_2=-my_scalar_1.value*pow(my_scalar_2.value, -2),\n",
        "                    parent_1=my_scalar_1,\n",
        "                    parent_2=my_scalar_2)\n",
        "    \n",
        "  # Bonus\n",
        "  @staticmethod\n",
        "  def addition_scalars(my_scalar_1, my_scalar_2):\n",
        "    return MyScalar(value=my_scalar_1.value+my_scalar_2.value,\n",
        "                    gradient_1=1,\n",
        "                    gradient_2=1,\n",
        "                    parent_1=my_scalar_1,\n",
        "                    parent_2=my_scalar_2)"
      ],
      "metadata": {
        "id": "C-siha6sdz5g"
      },
      "execution_count": null,
      "outputs": []
    },
    {
      "cell_type": "code",
      "source": [
        "# Tests for Q3\n",
        "\n",
        "a_user = MyScalar(value=2) # a_user == 2\n",
        "a_user.ID = 'a_user'\n",
        "b_user = MathLibrary.power(a_user, 2) # b_user == 4\n",
        "b_user.ID = 'b_user'\n",
        "c_user = MathLibrary.exp(b_user) # c_user == ~54.59\n",
        "c_user.ID = 'c_user'\n",
        "\n",
        "a_cp = torch.tensor(2., requires_grad=True) # a_cp == 2\n",
        "b_cp = torch.pow(a_cp, 2) # b_cp == 4\n",
        "b_cp.retain_grad() # Enables this Tensor to have their grad populated during backward()\n",
        "c_cp = torch.exp(b_cp) # c_cp == ~54.59\n",
        "c_cp.retain_grad() # Enables this Tensor to have their grad populated during backward()\n",
        "c_cp.backward() # Computes the gradient of current tensor w.r.t. graph leaves.\n",
        "\n",
        "gradient_dict.clear()\n",
        "\n",
        "print(f'a_user = {a_user.value}, b_user = {b_user.value}, c_user = {c_user.value}')\n",
        "print(f'a_cp = {a_cp.item()}, b_cp = {b_cp.item()}, c_cp = {c_cp.item()}\\n')\n",
        "print(dict(get_gradient(c_user)))\n",
        "print({'c_cp': c_cp.grad.item(), 'b_cp': b_cp.grad.item(), 'a_cp': a_cp.grad.item()})"
      ],
      "metadata": {
        "colab": {
          "base_uri": "https://localhost:8080/"
        },
        "id": "3MjzY-Zwhpr7",
        "outputId": "539b9961-7aec-4a55-d69e-75ae3b675c4d"
      },
      "execution_count": null,
      "outputs": [
        {
          "output_type": "stream",
          "name": "stdout",
          "text": [
            "a_user = 2, b_user = 4, c_user = 54.598148345947266\n",
            "a_cp = 2.0, b_cp = 4.0, c_cp = 54.598148345947266\n",
            "\n",
            "{'c_user': 1, 'b_user': 54.598148345947266, 'a_user': 218.39259338378906}\n",
            "{'c_cp': 1.0, 'b_cp': 54.598148345947266, 'a_cp': 218.39259338378906}\n"
          ]
        }
      ]
    },
    {
      "cell_type": "code",
      "source": [
        "# Tests for Q3 - Bonus\n",
        "\n",
        "a_user = MyScalar(value=2) # a_user == 2\n",
        "a_user.ID = 'a_user'\n",
        "b_user = MathLibrary.power(a_user, 4) # b_user == 16\n",
        "b_user.ID = 'b_user'\n",
        "c_user = MathLibrary.exp(a_user) # c_user == ~7.38\n",
        "c_user.ID = 'c_user'\n",
        "d_user = MathLibrary.product_scalars(b_user, c_user) # d_user == ~118.22\n",
        "d_user.ID = 'd_user'\n",
        "\n",
        "a_cp = torch.tensor(2., requires_grad=True) # a_cp == 2\n",
        "b_cp = torch.pow(a_cp, 4) # b_cp == 16\n",
        "b_cp.retain_grad() # Enables this Tensor to have their grad populated during backward()\n",
        "c_cp = torch.exp(a_cp) # c_cp == ~7.38\n",
        "c_cp.retain_grad() # Enables this Tensor to have their grad populated during backward()\n",
        "d_cp = b_cp * c_cp # d_cp == ~118.22\n",
        "d_cp.retain_grad() # Enables this Tensor to have their grad populated during backward()\n",
        "d_cp.backward() # Computes the gradient of current tensor w.r.t. graph leaves.\n",
        "\n",
        "gradient_dict.clear()\n",
        "\n",
        "print(f'a_user = {a_user.value}, b_user = {b_user.value}, c_user = {c_user.value}, d_user = {d_user.value}')\n",
        "print(f'a_cp = {a_cp.item()}, b_cp = {b_cp.item()}, c_cp = {c_cp.item()},  d_cp = {d_cp.item()}\\n')\n",
        "print(dict(get_gradient(d_user)))\n",
        "print({'d_cp': d_cp.grad.item(), 'c_cp': c_cp.grad.item(), 'b_cp': b_cp.grad.item(), 'a_cp': a_cp.grad.item()})"
      ],
      "metadata": {
        "colab": {
          "base_uri": "https://localhost:8080/"
        },
        "id": "s3l60orV6mCb",
        "outputId": "d9fadbba-8c42-48d2-ea39-bd8183b276dd"
      },
      "execution_count": null,
      "outputs": [
        {
          "output_type": "stream",
          "name": "stdout",
          "text": [
            "a_user = 2, b_user = 16, c_user = 7.389056205749512, d_user = 118.22489929199219\n",
            "a_cp = 2.0, b_cp = 16.0, c_cp = 7.389056205749512,  d_cp = 118.22489929199219\n",
            "\n",
            "{'d_user': 1, 'b_user': 7.389056205749512, 'a_user': 354.67469787597656, 'c_user': 16}\n",
            "{'d_cp': 1.0, 'c_cp': 16.0, 'b_cp': 7.389056205749512, 'a_cp': 354.6746826171875}\n"
          ]
        }
      ]
    }
  ]
}
